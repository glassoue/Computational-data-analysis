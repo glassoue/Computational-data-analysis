{
 "cells": [
  {
   "cell_type": "code",
   "execution_count": 1,
   "metadata": {},
   "outputs": [],
   "source": [
    "import pandas as pd\n",
    "import numpy as np"
   ]
  },
  {
   "cell_type": "code",
   "execution_count": 10,
   "metadata": {},
   "outputs": [],
   "source": [
    "data_20091 = pd.read_csv(\"20091.csv\", encoding = 'unicode_escape')"
   ]
  },
  {
   "cell_type": "code",
   "execution_count": 31,
   "metadata": {},
   "outputs": [
    {
     "data": {
      "text/html": [
       "<div>\n",
       "<style scoped>\n",
       "    .dataframe tbody tr th:only-of-type {\n",
       "        vertical-align: middle;\n",
       "    }\n",
       "\n",
       "    .dataframe tbody tr th {\n",
       "        vertical-align: top;\n",
       "    }\n",
       "\n",
       "    .dataframe thead th {\n",
       "        text-align: right;\n",
       "    }\n",
       "</style>\n",
       "<table border=\"1\" class=\"dataframe\">\n",
       "  <thead>\n",
       "    <tr style=\"text-align: right;\">\n",
       "      <th></th>\n",
       "      <th>MeetingID</th>\n",
       "      <th>Sagtype</th>\n",
       "      <th>Speeces</th>\n",
       "      <th>Speaker</th>\n",
       "    </tr>\n",
       "  </thead>\n",
       "  <tbody>\n",
       "    <tr>\n",
       "      <th>0</th>\n",
       "      <td>CBAEA326-B201-41AB-A756-029BA1F58D82</td>\n",
       "      <td>Formandens meddelelser</td>\n",
       "      <td>Mødet er åbnet.I dag er der følgende anmeldels...</td>\n",
       "      <td>NaN</td>\n",
       "    </tr>\n",
       "    <tr>\n",
       "      <th>1</th>\n",
       "      <td>CBAEA326-B201-41AB-A756-029BA1F58D82</td>\n",
       "      <td>Formandens meddelelser</td>\n",
       "      <td>Der er ikke mere at foretage i dette møde.Folk...</td>\n",
       "      <td>Mogens Lykketoft</td>\n",
       "    </tr>\n",
       "    <tr>\n",
       "      <th>2</th>\n",
       "      <td>CBAEA326-B201-41AB-A756-029BA1F58D82</td>\n",
       "      <td>Lovforslag</td>\n",
       "      <td>Forhandlingen er åbnet, og den første, der får...</td>\n",
       "      <td>NaN</td>\n",
       "    </tr>\n",
       "    <tr>\n",
       "      <th>3</th>\n",
       "      <td>CBAEA326-B201-41AB-A756-029BA1F58D82</td>\n",
       "      <td>Lovforslag</td>\n",
       "      <td>Jeg holder ordførertalen for Venstre og på veg...</td>\n",
       "      <td>Peter Juel Jensen</td>\n",
       "    </tr>\n",
       "    <tr>\n",
       "      <th>4</th>\n",
       "      <td>CBAEA326-B201-41AB-A756-029BA1F58D82</td>\n",
       "      <td>Lovforslag</td>\n",
       "      <td>Tak til hr. Peter Juel Jensen. Der er ikke øns...</td>\n",
       "      <td>NaN</td>\n",
       "    </tr>\n",
       "  </tbody>\n",
       "</table>\n",
       "</div>"
      ],
      "text/plain": [
       "                              MeetingID                 Sagtype  \\\n",
       "0  CBAEA326-B201-41AB-A756-029BA1F58D82  Formandens meddelelser   \n",
       "1  CBAEA326-B201-41AB-A756-029BA1F58D82  Formandens meddelelser   \n",
       "2  CBAEA326-B201-41AB-A756-029BA1F58D82              Lovforslag   \n",
       "3  CBAEA326-B201-41AB-A756-029BA1F58D82              Lovforslag   \n",
       "4  CBAEA326-B201-41AB-A756-029BA1F58D82              Lovforslag   \n",
       "\n",
       "                                             Speeces            Speaker  \n",
       "0  Mødet er åbnet.I dag er der følgende anmeldels...                NaN  \n",
       "1  Der er ikke mere at foretage i dette møde.Folk...   Mogens Lykketoft  \n",
       "2  Forhandlingen er åbnet, og den første, der får...                NaN  \n",
       "3  Jeg holder ordførertalen for Venstre og på veg...  Peter Juel Jensen  \n",
       "4  Tak til hr. Peter Juel Jensen. Der er ikke øns...                NaN  "
      ]
     },
     "execution_count": 31,
     "metadata": {},
     "output_type": "execute_result"
    }
   ],
   "source": [
    "data_20091.head()"
   ]
  },
  {
   "cell_type": "markdown",
   "metadata": {},
   "source": [
    "# Data 20091"
   ]
  },
  {
   "cell_type": "code",
   "execution_count": 29,
   "metadata": {},
   "outputs": [
    {
     "name": "stdout",
     "output_type": "stream",
     "text": [
      "109\n",
      "['Formandens meddelelser' 'Lovforslag'\n",
      " 'Indstilling fra Udvalget til Valgs Prøvelse' 'Forespørgsel'\n",
      " 'Beslutningsforslag' 'Uforberedt spørgsmål' 'Spørgsmål til spørgetid'\n",
      " 'Redegørelse' 'Valg']\n",
      "9\n",
      "61561\n"
     ]
    }
   ],
   "source": [
    "print(len(data_20091[\"MeetingID\"].unique()))\n",
    "print(data_20091[\"Sagtype\"].unique())\n",
    "print(len(data_20091[\"Sagtype\"].unique()))\n",
    "print(len(data_20091))"
   ]
  },
  {
   "cell_type": "markdown",
   "metadata": {},
   "source": [
    " # Data 20101"
   ]
  },
  {
   "cell_type": "code",
   "execution_count": 14,
   "metadata": {},
   "outputs": [],
   "source": [
    "data_20101 = pd.read_csv(\"20101.csv\", encoding = 'unicode_escape')"
   ]
  },
  {
   "cell_type": "code",
   "execution_count": 40,
   "metadata": {},
   "outputs": [
    {
     "name": "stdout",
     "output_type": "stream",
     "text": [
      "108\n",
      "['Formandens meddelelser' 'Uforberedt spørgsmål' 'Spørgsmål til spørgetid'\n",
      " 'Lovforslag' 'Beslutningsforslag' 'Forespørgsel' 'Valg'\n",
      " 'Indstilling fra Udvalget til Valgs Prøvelse' 'Redegørelse'\n",
      " 'Indstilling fra Udvalget til Prøvelse af Valgene ']\n",
      "10\n",
      "41648\n"
     ]
    }
   ],
   "source": [
    "print(len(data_20101[\"MeetingID\"].unique()))\n",
    "print(data_20101[\"Sagtype\"].unique())\n",
    "print(len(data_20101[\"Sagtype\"].unique()))\n",
    "print(len(data_20101))"
   ]
  },
  {
   "cell_type": "markdown",
   "metadata": {},
   "source": [
    "# Data 20102"
   ]
  },
  {
   "cell_type": "code",
   "execution_count": 39,
   "metadata": {},
   "outputs": [
    {
     "name": "stdout",
     "output_type": "stream",
     "text": [
      "2\n",
      "['Formandens meddelelser' 'Beslutningsforslag']\n",
      "2\n",
      "10\n"
     ]
    }
   ],
   "source": [
    "data_20102 = pd.read_csv(\"20102.csv\", encoding = 'unicode_escape')\n",
    "print(len(data_20102[\"MeetingID\"].unique()))\n",
    "print(data_20102[\"Sagtype\"].unique())\n",
    "print(len(data_20102[\"Sagtype\"].unique()))\n",
    "print(len(data_20102))"
   ]
  },
  {
   "cell_type": "markdown",
   "metadata": {},
   "source": [
    "# Data 20111"
   ]
  },
  {
   "cell_type": "code",
   "execution_count": 38,
   "metadata": {},
   "outputs": [
    {
     "name": "stdout",
     "output_type": "stream",
     "text": [
      "102\n",
      "['Formandens meddelelser' 'Forespørgsel' 'Beslutningsforslag'\n",
      " 'Uforberedt spørgsmål' 'Spørgsmål til spørgetid' 'Lovforslag'\n",
      " 'Redegørelse' 'Indstilling fra Udvalget til Valgs Prøvelse'\n",
      " 'Indstilling fra Udvalget til Prøvelse af Valgene ']\n",
      "9\n",
      "49225\n"
     ]
    }
   ],
   "source": [
    "data_20111 = pd.read_csv(\"20111.csv\", encoding = 'unicode_escape')\n",
    "print(len(data_20111[\"MeetingID\"].unique()))\n",
    "print(data_20111[\"Sagtype\"].unique())\n",
    "print(len(data_20111[\"Sagtype\"].unique()))\n",
    "print(len(data_20111))"
   ]
  },
  {
   "cell_type": "markdown",
   "metadata": {},
   "source": [
    "# Data 20121"
   ]
  },
  {
   "cell_type": "code",
   "execution_count": 37,
   "metadata": {},
   "outputs": [
    {
     "name": "stdout",
     "output_type": "stream",
     "text": [
      "115\n",
      "['Formandens meddelelser' 'Spørgsmål til spørgetid' 'Uforberedt spørgsmål'\n",
      " 'Beslutningsforslag' 'Forespørgsel' 'Lovforslag'\n",
      " 'Indstilling fra Udvalget til Valgs Prøvelse' 'Redegørelse' 'Valg'\n",
      " 'Indstilling fra Udvalget til Prøvelse af Valgene ']\n",
      "10\n",
      "44638\n"
     ]
    }
   ],
   "source": [
    "data_20121 = pd.read_csv(\"20121.csv\", encoding = 'unicode_escape')\n",
    "print(len(data_20121[\"MeetingID\"].unique()))\n",
    "print(data_20121[\"Sagtype\"].unique())\n",
    "print(len(data_20121[\"Sagtype\"].unique()))\n",
    "print(len(data_20121))"
   ]
  },
  {
   "cell_type": "markdown",
   "metadata": {},
   "source": [
    "# Data 20131"
   ]
  },
  {
   "cell_type": "code",
   "execution_count": 35,
   "metadata": {},
   "outputs": [
    {
     "name": "stdout",
     "output_type": "stream",
     "text": [
      "109\n",
      "['Formandens meddelelser' 'Spørgsmål til spørgetid' 'Lovforslag'\n",
      " 'Indstilling fra Udvalget til Valgs Prøvelse' 'Beslutningsforslag'\n",
      " 'Redegørelse' 'Valg' 'Forespørgsel' 'Uforberedt spørgsmål'\n",
      " 'Indstilling fra Udvalget til Prøvelse af Valgene ']\n",
      "10\n",
      "38670\n"
     ]
    }
   ],
   "source": [
    "data_20131 = pd.read_csv(\"20131.csv\", encoding = 'unicode_escape')\n",
    "print(len(data_20131[\"MeetingID\"].unique()))\n",
    "print(data_20131[\"Sagtype\"].unique())\n",
    "print(len(data_20131[\"Sagtype\"].unique()))\n",
    "print(len(data_20131))"
   ]
  },
  {
   "cell_type": "markdown",
   "metadata": {},
   "source": [
    "# Data 20141"
   ]
  },
  {
   "cell_type": "code",
   "execution_count": 34,
   "metadata": {},
   "outputs": [
    {
     "name": "stdout",
     "output_type": "stream",
     "text": [
      "98\n",
      "['Formandens meddelelser' 'Forespørgsel' 'Lovforslag' 'Beslutningsforslag'\n",
      " 'Spørgsmål til spørgetid' 'Redegørelse' 'Uforberedt spørgsmål'\n",
      " 'Indstilling fra Udvalget til Valgs Prøvelse'\n",
      " 'Indstilling fra Udvalget til Prøvelse af Valgene ']\n",
      "9\n",
      "36347\n"
     ]
    }
   ],
   "source": [
    "data_20141 = pd.read_csv(\"20141.csv\", encoding = 'unicode_escape')\n",
    "print(len(data_20141[\"MeetingID\"].unique()))\n",
    "print(data_20141[\"Sagtype\"].unique())\n",
    "print(len(data_20141[\"Sagtype\"].unique()))\n",
    "print(len(data_20141))"
   ]
  },
  {
   "cell_type": "markdown",
   "metadata": {},
   "source": [
    "# Data 20151"
   ]
  },
  {
   "cell_type": "code",
   "execution_count": 33,
   "metadata": {},
   "outputs": [
    {
     "name": "stdout",
     "output_type": "stream",
     "text": [
      "112\n",
      "['Formandens meddelelser' 'Indstilling fra Udvalget til Valgs Prøvelse'\n",
      " 'Lovforslag' 'Forespørgsel' 'Redegørelse' 'Beslutningsforslag'\n",
      " 'Spørgsmål til spørgetid' 'Uforberedt spørgsmål' 'Valg']\n",
      "9\n",
      "58875\n"
     ]
    }
   ],
   "source": [
    "data_20151 = pd.read_csv(\"20151.csv\", encoding = 'unicode_escape')\n",
    "print(len(data_20151[\"MeetingID\"].unique()))\n",
    "print(data_20151[\"Sagtype\"].unique())\n",
    "print(len(data_20151[\"Sagtype\"].unique()))\n",
    "print(len(data_20151))"
   ]
  },
  {
   "cell_type": "markdown",
   "metadata": {},
   "source": [
    "# Data 20161"
   ]
  },
  {
   "cell_type": "code",
   "execution_count": 32,
   "metadata": {},
   "outputs": [
    {
     "name": "stdout",
     "output_type": "stream",
     "text": [
      "99\n",
      "['Formandens meddelelser' 'Valg' 'Redegørelse' 'Forespørgsel' 'Lovforslag'\n",
      " 'Beslutningsforslag' 'Spørgsmål til spørgetid'\n",
      " 'Indstilling fra Udvalget til Valgs Prøvelse' 'Uforberedt spørgsmål'\n",
      " 'Indstilling fra Udvalget til Prøvelse af Valgene ']\n",
      "10\n",
      "47413\n"
     ]
    }
   ],
   "source": [
    "data_20161 = pd.read_csv(\"20161.csv\", encoding = 'unicode_escape')\n",
    "print(len(data_20161[\"MeetingID\"].unique()))\n",
    "print(data_20161[\"Sagtype\"].unique())\n",
    "print(len(data_20161[\"Sagtype\"].unique()))\n",
    "print(len(data_20161))"
   ]
  },
  {
   "cell_type": "code",
   "execution_count": null,
   "metadata": {},
   "outputs": [],
   "source": []
  }
 ],
 "metadata": {
  "kernelspec": {
   "display_name": "Python 3",
   "language": "python",
   "name": "python3"
  },
  "language_info": {
   "codemirror_mode": {
    "name": "ipython",
    "version": 3
   },
   "file_extension": ".py",
   "mimetype": "text/x-python",
   "name": "python",
   "nbconvert_exporter": "python",
   "pygments_lexer": "ipython3",
   "version": "3.7.3"
  }
 },
 "nbformat": 4,
 "nbformat_minor": 2
}
