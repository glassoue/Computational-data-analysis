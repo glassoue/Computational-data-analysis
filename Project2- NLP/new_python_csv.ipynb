{
 "cells": [
  {
   "cell_type": "code",
   "execution_count": 41,
   "metadata": {
    "scrolled": false
   },
   "outputs": [
    {
     "name": "stdout",
     "output_type": "stream",
     "text": [
      "something worng\n",
      "something worng\n",
      "something worng\n",
      "something worng\n",
      "something worng\n",
      "something worng\n",
      "something worng\n"
     ]
    }
   ],
   "source": [
    "import xml.etree.ElementTree as ET\n",
    "import csv\n",
    "\n",
    "tree = ET.parse('EdixiXMLExport_20161.xml')\n",
    "root = tree.getroot()\n",
    "\n",
    "f = open('20161.csv', 'w')\n",
    "\n",
    "csvwriter = csv.writer(f)\n",
    "\n",
    "count = 0\n",
    "\n",
    "head = ['MeetingID','Sagtype','Speeces','Speaker']\n",
    "\n",
    "csvwriter.writerow(head)\n",
    "\n",
    "for mode in root.findall('Møde'):\n",
    "    meet_id = mode.find('MeetingId').text\n",
    "    for subatt in mode.findall('Dagsordenpunkt'):\n",
    "        sag = subatt.find('Sagstype').text\n",
    "        #print('i am here')\n",
    "        for tal in subatt.findall('Tale'):\n",
    "            tale = tal.find('Tekst')\n",
    "            if (tale is not None):\n",
    "                row = []\n",
    "                row.append(meet_id)\n",
    "                row.append(sag)\n",
    "                tex = tal.find('Tekst').text\n",
    "                row.append(tex)\n",
    "                navn = tal.find('Navn').text\n",
    "                row.append(navn)\n",
    "                try :\n",
    "                    csvwriter.writerow(row)\n",
    "                except :\n",
    "                    print('something worng')\n",
    "                    \n",
    "\n",
    "f.close()"
   ]
  },
  {
   "cell_type": "code",
   "execution_count": null,
   "metadata": {},
   "outputs": [],
   "source": []
  },
  {
   "cell_type": "code",
   "execution_count": null,
   "metadata": {},
   "outputs": [],
   "source": []
  }
 ],
 "metadata": {
  "kernelspec": {
   "display_name": "Python 3",
   "language": "python",
   "name": "python3"
  },
  "language_info": {
   "codemirror_mode": {
    "name": "ipython",
    "version": 3
   },
   "file_extension": ".py",
   "mimetype": "text/x-python",
   "name": "python",
   "nbconvert_exporter": "python",
   "pygments_lexer": "ipython3",
   "version": "3.7.3"
  }
 },
 "nbformat": 4,
 "nbformat_minor": 2
}
